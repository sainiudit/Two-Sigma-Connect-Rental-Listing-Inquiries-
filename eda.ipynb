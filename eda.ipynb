{
 "cells": [
  {
   "cell_type": "code",
   "execution_count": 1,
   "metadata": {
    "collapsed": true
   },
   "outputs": [],
   "source": [
    "import os\n",
    "import sys\n",
    "import operator\n",
    "import numpy as np\n",
    "import pandas as pd\n",
    "from scipy import sparse\n",
    "import xgboost as xgb\n",
    "import random\n",
    "from sklearn import model_selection, preprocessing, ensemble\n",
    "from sklearn.metrics import log_loss\n",
    "from sklearn.feature_extraction.text import TfidfVectorizer, CountVectorizer\n",
    "import json\n",
    "from sklearn.feature_selection import SelectKBest, chi2\n",
    "from sklearn import metrics, ensemble, linear_model, svm\n",
    "from numpy import log, ones, array, zeros, mean, std, repeat\n",
    "import numpy as np\n",
    "import scipy.sparse as sp\n",
    "import re\n",
    "import csv\n",
    "from time import time\n",
    "from wordcloud import WordCloud,STOPWORDS\n",
    "from nltk.corpus import stopwords\n",
    "from textblob import TextBlob\n",
    "\n",
    "def room_price(x, y):\n",
    "    if y == 0:\n",
    "        return 0\n",
    "    return x/y\n",
    "\n",
    "def get_importance(forest,features):\n",
    "    #importances = forest.feature_importances_\n",
    "    importance = forest.feature_importances_\n",
    "    importance = pd.DataFrame(importance, index=features, \n",
    "                          columns=[\"Importance\"])\n",
    "    importance=importance.sort_values('Importance',ascending=False)\n",
    "    return importance\n",
    "    #features=importance[importance['Importance']].index\n",
    "\n",
    "pd.options.display.max_columns=999\n",
    "#input data\n",
    "train_df=pd.read_json('../input/train.json')\n",
    "test_df=pd.read_json('../input/test.json')\n",
    "\n",
    "test_df[\"bathrooms\"].loc[19671] = 1.5\n",
    "test_df[\"bathrooms\"].loc[22977] = 2.0\n",
    "test_df[\"bathrooms\"].loc[63719] = 2.0\n",
    "train_df[\"price\"] = train_df[\"price\"].clip(upper=13000)\n",
    "\n",
    "\n",
    "index=list(range(train_df.shape[0]))\n",
    "random.shuffle(index)\n",
    "a=[np.nan]*len(train_df)\n",
    "b=[np.nan]*len(train_df)\n",
    "c=[np.nan]*len(train_df)\n",
    "\n",
    "for i in range(5):\n",
    "    building_level={}\n",
    "    for j in train_df['manager_id'].values:\n",
    "        building_level[j]=[0,0,0]\n",
    "    \n",
    "    test_index=index[int((i*train_df.shape[0])/5):int(((i+1)*train_df.shape[0])/5)]\n",
    "    train_index=list(set(index).difference(test_index))\n",
    "    \n",
    "    for j in train_index:\n",
    "        temp=train_df.iloc[j]\n",
    "        if temp['interest_level']=='low':\n",
    "            building_level[temp['manager_id']][0]+=1\n",
    "        if temp['interest_level']=='medium':\n",
    "            building_level[temp['manager_id']][1]+=1\n",
    "        if temp['interest_level']=='high':\n",
    "            building_level[temp['manager_id']][2]+=1\n",
    "            \n",
    "    for j in test_index:\n",
    "        temp=train_df.iloc[j]\n",
    "        if sum(building_level[temp['manager_id']])!=0:\n",
    "            a[j]=building_level[temp['manager_id']][0]*1.0/sum(building_level[temp['manager_id']])\n",
    "            b[j]=building_level[temp['manager_id']][1]*1.0/sum(building_level[temp['manager_id']])\n",
    "            c[j]=building_level[temp['manager_id']][2]*1.0/sum(building_level[temp['manager_id']])\n",
    "            \n",
    "train_df['manager_level_low']=a\n",
    "train_df['manager_level_medium']=b\n",
    "train_df['manager_level_high']=c\n",
    "\n",
    "a=[]\n",
    "b=[]\n",
    "c=[]\n",
    "building_level={}\n",
    "for j in train_df['manager_id'].values:\n",
    "    building_level[j]=[0,0,0]\n",
    "\n",
    "for j in range(train_df.shape[0]):\n",
    "    temp=train_df.iloc[j]\n",
    "    if temp['interest_level']=='low':\n",
    "        building_level[temp['manager_id']][0]+=1\n",
    "    if temp['interest_level']=='medium':\n",
    "        building_level[temp['manager_id']][1]+=1\n",
    "    if temp['interest_level']=='high':\n",
    "        building_level[temp['manager_id']][2]+=1\n",
    "\n",
    "for i in test_df['manager_id'].values:\n",
    "    if i not in building_level.keys():\n",
    "        a.append(np.nan)\n",
    "        b.append(np.nan)\n",
    "        c.append(np.nan)\n",
    "    else:\n",
    "        a.append(building_level[i][0]*1.0/sum(building_level[i]))\n",
    "        b.append(building_level[i][1]*1.0/sum(building_level[i]))\n",
    "        c.append(building_level[i][2]*1.0/sum(building_level[i]))\n",
    "test_df['manager_level_low']=a\n",
    "test_df['manager_level_medium']=b\n",
    "test_df['manager_level_high']=c"
   ]
  },
  {
   "cell_type": "code",
   "execution_count": 2,
   "metadata": {},
   "outputs": [
    {
     "data": {
      "text/plain": [
       "((49352, 18), (74659, 17))"
      ]
     },
     "execution_count": 2,
     "metadata": {},
     "output_type": "execute_result"
    }
   ],
   "source": [
    "train_df.shape,test_df.shape"
   ]
  },
  {
   "cell_type": "code",
   "execution_count": 3,
   "metadata": {
    "collapsed": true
   },
   "outputs": [],
   "source": [
    "test_df['interest_level']='test'"
   ]
  },
  {
   "cell_type": "code",
   "execution_count": 4,
   "metadata": {},
   "outputs": [
    {
     "data": {
      "text/plain": [
       "(124011, 18)"
      ]
     },
     "execution_count": 4,
     "metadata": {},
     "output_type": "execute_result"
    }
   ],
   "source": [
    "train=pd.concat([train_df, test_df]) \n",
    "train.shape"
   ]
  },
  {
   "cell_type": "code",
   "execution_count": 5,
   "metadata": {},
   "outputs": [
    {
     "data": {
      "text/plain": [
       "(124011, 18)"
      ]
     },
     "execution_count": 5,
     "metadata": {},
     "output_type": "execute_result"
    }
   ],
   "source": [
    "fmt = lambda s: s.replace(\"\\u00a0\", \"\").strip().lower()\n",
    "train[\"street_address\"] = train['street_address'].apply(fmt)\n",
    "train[\"display_address\"] = train[\"display_address\"].apply(fmt)\n",
    "train.shape"
   ]
  },
  {
   "cell_type": "code",
   "execution_count": 6,
   "metadata": {},
   "outputs": [
    {
     "data": {
      "text/plain": [
       "(124011, 22)"
      ]
     },
     "execution_count": 6,
     "metadata": {},
     "output_type": "execute_result"
    }
   ],
   "source": [
    "train['num_photos'] = train['photos'].apply(len)\n",
    "train['num_features'] = train['features'].apply(len)\n",
    "train['num_description_words'] = train['description'].apply(lambda x: len(x.split(' ')))\n",
    "train['num_description_len'] = train['description'].apply(len)\n",
    "\n",
    "train['features'] = train[\"features\"].apply(lambda x: \" \".join([\"_\".join(i.split(\" \")) for i in x]))\n",
    "train.shape"
   ]
  },
  {
   "cell_type": "code",
   "execution_count": 7,
   "metadata": {},
   "outputs": [
    {
     "data": {
      "text/plain": [
       "(124011, 822)"
      ]
     },
     "execution_count": 7,
     "metadata": {},
     "output_type": "execute_result"
    }
   ],
   "source": [
    "def tfidf_feature(data_list,num_features,prefix):\n",
    "    tfidf = CountVectorizer(stop_words='english', max_features=200)\n",
    "    tr_sparse = tfidf.fit_transform(data_list)\n",
    "    tr_sparse=pd.DataFrame(tr_sparse.todense())\n",
    "    tr_sparse.columns=[prefix+str(col) for col in tr_sparse.columns]\n",
    "    return tr_sparse\n",
    "\n",
    "train=pd.concat([train,tfidf_feature(train['features'],200,'tfidf_fetures')],axis=1)\n",
    "train=pd.concat([train,tfidf_feature(train['description'],100,'description_fetures')],axis=1)\n",
    "train=pd.concat([train,tfidf_feature(train['street_address'],100,'street_address_fetures')],axis=1)\n",
    "train=pd.concat([train,tfidf_feature(train['display_address'],100,'display_address_fetures')],axis=1)\n",
    "train.shape"
   ]
  },
  {
   "cell_type": "code",
   "execution_count": 8,
   "metadata": {},
   "outputs": [
    {
     "data": {
      "text/plain": [
       "(124011, 832)"
      ]
     },
     "execution_count": 8,
     "metadata": {},
     "output_type": "execute_result"
    }
   ],
   "source": [
    "train['created'] = pd.to_datetime(train['created'])\n",
    "train['date'] = train['created'].dt.date\n",
    "train[\"year\"] = train[\"created\"].dt.year\n",
    "train['month'] = train['created'].dt.month\n",
    "train['day'] = train['created'].dt.day\n",
    "train['hour'] = train['created'].dt.hour\n",
    "train['weekday'] = train['created'].dt.weekday\n",
    "train['week'] = train['created'].dt.week\n",
    "train['quarter'] = train['created'].dt.quarter\n",
    "train['weekend'] = ((train['weekday'] == 5) & (train['weekday'] == 6))\n",
    "train['wd'] = ((train['weekday'] != 5) & (train['weekday'] != 6))\n",
    "train.shape"
   ]
  },
  {
   "cell_type": "code",
   "execution_count": 9,
   "metadata": {
    "collapsed": true
   },
   "outputs": [],
   "source": [
    "from sklearn.cluster import Birch\n",
    "def cluster_latlon(n_clusters, data):  \n",
    "    #split the data between \"around NYC\" and \"other locations\" basically our first two clusters \n",
    "    data_c=data[(data.longitude>-74.05)&(data.longitude<-73.75)&(data.latitude>40.4)&(data.latitude<40.9)]\n",
    "    data_e=data[~(data.longitude>-74.05)&(data.longitude<-73.75)&(data.latitude>40.4)&(data.latitude<40.9)]\n",
    "    #put it in matrix form\n",
    "    coords=data_c.as_matrix(columns=['latitude', \"longitude\"])\n",
    "    \n",
    "    brc = Birch(branching_factor=100, n_clusters=n_clusters, threshold=0.01,compute_labels=True)\n",
    "\n",
    "    brc.fit(coords)\n",
    "    clusters=brc.predict(coords)\n",
    "    data_c[\"cluster_\"+str(n_clusters)]=clusters\n",
    "    data_e[\"cluster_\"+str(n_clusters)]=-1 #assign cluster label -1 for the non NYC listings \n",
    "    data=pd.concat([data_c,data_e])\n",
    "    #plt.scatter(data_c[\"longitude\"], data_c[\"latitude\"], c=data_c[\"cluster_\"+str(n_clusters)], s=10, linewidth=0.1)\n",
    "    #plt.title(str(n_clusters)+\" Neighbourhoods from clustering\")\n",
    "    #plt.show()\n",
    "    return data "
   ]
  },
  {
   "cell_type": "code",
   "execution_count": 10,
   "metadata": {},
   "outputs": [
    {
     "name": "stderr",
     "output_type": "stream",
     "text": [
      "/usr/local/lib/python2.7/dist-packages/ipykernel_launcher.py:13: SettingWithCopyWarning: \n",
      "A value is trying to be set on a copy of a slice from a DataFrame.\n",
      "Try using .loc[row_indexer,col_indexer] = value instead\n",
      "\n",
      "See the caveats in the documentation: http://pandas.pydata.org/pandas-docs/stable/indexing.html#indexing-view-versus-copy\n",
      "  del sys.path[0]\n",
      "/usr/local/lib/python2.7/dist-packages/ipykernel_launcher.py:14: SettingWithCopyWarning: \n",
      "A value is trying to be set on a copy of a slice from a DataFrame.\n",
      "Try using .loc[row_indexer,col_indexer] = value instead\n",
      "\n",
      "See the caveats in the documentation: http://pandas.pydata.org/pandas-docs/stable/indexing.html#indexing-view-versus-copy\n",
      "  \n"
     ]
    }
   ],
   "source": [
    "gpsclusters=cluster_latlon(20, train[['listing_id','latitude','longitude']])\n",
    "gpsclusters=gpsclusters.drop(['latitude','longitude'],axis=1)\n",
    "\n",
    "train[\"pos\"] = train.longitude.round(3).astype(str) + '_' + train.latitude.round(3).astype(str)\n",
    "\n",
    "vals = train['pos'].value_counts()\n",
    "dvals = vals.to_dict()\n",
    "train[\"density\"] = train['pos'].apply(lambda x: dvals.get(x, vals.min()))"
   ]
  },
  {
   "cell_type": "code",
   "execution_count": 11,
   "metadata": {
    "collapsed": true
   },
   "outputs": [],
   "source": [
    "train=pd.merge(train,gpsclusters,on='listing_id',how='left')"
   ]
  },
  {
   "cell_type": "code",
   "execution_count": 12,
   "metadata": {
    "collapsed": true
   },
   "outputs": [],
   "source": [
    "clusters_price_map=dict(train.groupby(by=\"cluster_20\")[\"price\"].median())\n",
    "train[\"price_comparison\"]=train['price']-train[\"cluster_20\"].map(clusters_price_map)"
   ]
  },
  {
   "cell_type": "code",
   "execution_count": 13,
   "metadata": {
    "collapsed": true
   },
   "outputs": [],
   "source": [
    "train = train.join(\n",
    "                   train['description'].apply(\n",
    "                       lambda x: TextBlob(x).sentiment.polarity).rename('sentiment'))"
   ]
  },
  {
   "cell_type": "code",
   "execution_count": 14,
   "metadata": {
    "collapsed": true
   },
   "outputs": [],
   "source": [
    "train['price_room'] = train.apply(lambda row: room_price(row['price'], \n",
    "                                                         row['bedrooms']), axis=1)\n",
    "\n",
    "train['price_bathrooms'] = train.apply(lambda row: room_price(row['price'], \n",
    "                                                         row['bathrooms']), axis=1)"
   ]
  },
  {
   "cell_type": "code",
   "execution_count": 15,
   "metadata": {
    "collapsed": true
   },
   "outputs": [],
   "source": [
    "train[\"room_sum\"] = train[\"bedrooms\"]+train[\"bathrooms\"]\n",
    "train['price_room_sum'] = train.apply(lambda row: room_price(row['price'], \n",
    "                                                         row['room_sum']), axis=1)"
   ]
  },
  {
   "cell_type": "code",
   "execution_count": 16,
   "metadata": {
    "collapsed": true
   },
   "outputs": [],
   "source": [
    "# Number of listings based on building ID\n",
    "top_buildings = train['building_id'].value_counts().nlargest(50)\n",
    "grouped_building = train.groupby(\n",
    "                           ['building_id', 'interest_level']\n",
    "                          )['building_id'].count().unstack('interest_level').fillna(0)\n",
    "\n",
    "grouped_building['sum'] = grouped_building.sum(axis=1)\n",
    "x = grouped_building[(grouped_building['sum'] > 50) & (grouped_building['high'] > 10)]\n",
    "\n",
    "x['high'].plot.barh(color=\"palevioletred\");\n",
    "\n",
    "build_counts = pd.DataFrame(train.building_id.value_counts())\n",
    "build_counts['b_counts'] = build_counts['building_id']\n",
    "build_counts['building_id'] = build_counts.index\n",
    "build_counts['b_count_log'] = np.log2(build_counts['b_counts'])\n",
    "train = pd.merge(train, build_counts, on=\"building_id\")"
   ]
  },
  {
   "cell_type": "code",
   "execution_count": 17,
   "metadata": {},
   "outputs": [
    {
     "data": {
      "text/plain": [
       "(124011, 843)"
      ]
     },
     "execution_count": 17,
     "metadata": {},
     "output_type": "execute_result"
    }
   ],
   "source": [
    "train.shape"
   ]
  },
  {
   "cell_type": "code",
   "execution_count": 18,
   "metadata": {
    "collapsed": true
   },
   "outputs": [],
   "source": [
    "# Hight-interest managers\n",
    "top_managers = train['manager_id'].value_counts().nlargest(50)\n",
    "\n",
    "grouped_manager = train.groupby(\n",
    "    ['manager_id', 'interest_level'])['manager_id'].count().unstack('interest_level').fillna(0)\n",
    "\n",
    "grouped_manager['sum'] = grouped_manager.sum(axis=1)\n",
    "\n",
    "\n",
    "x = grouped_manager.loc[(grouped_manager['high'] > 20 ) & (grouped_manager['sum'] > 50)]\n",
    "\n",
    "\n",
    "x['high'].plot.barh(figsize=(10, 9), color=\"teal\");\n",
    "\n",
    "man_counts = pd.DataFrame(train.manager_id.value_counts())\n",
    "man_counts['m_counts'] = man_counts['manager_id']\n",
    "man_counts['manager_id'] = man_counts.index\n",
    "man_counts['m_count_log'] = np.log10(man_counts['m_counts'])\n",
    "train = pd.merge(train, man_counts, on=\"manager_id\")"
   ]
  },
  {
   "cell_type": "code",
   "execution_count": 19,
   "metadata": {
    "collapsed": true
   },
   "outputs": [],
   "source": [
    "# 3481 unique managers\n",
    "temp = train[train.interest_level!='test'].groupby('manager_id').count().iloc[:,-1]\n",
    "temp2 = train[train.interest_level=='test'].groupby('manager_id').count().iloc[:,-1]\n",
    "train_managers = pd.concat([temp,temp2],axis=1,join='outer')\n",
    "train_managers.columns=['train_count','test_count']\n",
    "\n",
    "# considering only those manager_ids which are in train\n",
    "man_list = train_managers['train_count'].sort_values(ascending = False).head(3481).index\n",
    "ixes = train.manager_id.isin(man_list)\n",
    "train10 = train[ixes][['manager_id','interest_level']]\n",
    "# create dummies of interest levels\n",
    "interest_dummies = pd.get_dummies(train10.interest_level)\n",
    "train10 = pd.concat([train10,interest_dummies[['low','medium','high']]], axis = 1).drop('interest_level', axis = 1)\n",
    "\n",
    "gby = pd.concat([train10.groupby('manager_id').mean(),train10.groupby('manager_id').count()], axis = 1).iloc[:,:-2]\n",
    "gby.columns = ['low','medium','high','count']\n",
    "gby.sort_values(by = 'count', ascending = False).head(10)\n",
    "gby['manager_skill'] = gby['medium']*1 + gby['high']*2 \n",
    "gby['manager_id']=gby.index\n"
   ]
  },
  {
   "cell_type": "code",
   "execution_count": 20,
   "metadata": {
    "collapsed": true
   },
   "outputs": [],
   "source": [
    "train = train.merge(gby[['manager_id','manager_skill']],on='manager_id',how='outer',right_index=False)\n",
    "train['manager_skill']=train['manager_skill'].fillna(0)"
   ]
  },
  {
   "cell_type": "code",
   "execution_count": 21,
   "metadata": {
    "collapsed": true
   },
   "outputs": [],
   "source": [
    "train[\"logprice\"] = np.log(train[\"price\"])\n",
    "\n",
    "max_date=train.created.max()\n",
    "\n",
    "train['days_from_created']=train.created.apply(lambda x: (max_date-x).days)"
   ]
  },
  {
   "cell_type": "code",
   "execution_count": 22,
   "metadata": {
    "collapsed": true
   },
   "outputs": [],
   "source": [
    "from sklearn.preprocessing import LabelEncoder\n",
    "\n",
    "categorical = [\"display_address\", \"manager_id\", \"building_id\",\"street_address\"]\n",
    "for f in categorical:\n",
    "        if train_df[f].dtype=='object':\n",
    "            lbl = LabelEncoder()\n",
    "            lbl.fit(list(train[f].values))\n",
    "            train[f] = lbl.transform(list(train[f].values))"
   ]
  },
  {
   "cell_type": "code",
   "execution_count": 23,
   "metadata": {
    "collapsed": true
   },
   "outputs": [],
   "source": [
    "def create_binary_features(df):\n",
    "    bows = {\n",
    "        \"dogs\": (\"dogs\", \"dog\"),\n",
    "        \"cats\": (\"cats\",),\n",
    "        \"nofee\": (\"no fee\", \"no-fee\", \"no  fee\", \"nofee\", \"no_fee\"),\n",
    "        \"lowfee\": (\"reduced_fee\", \"low_fee\", \"reduced fee\", \"low fee\"),\n",
    "        \"furnished\": (\"furnished\",),\n",
    "        \"parquet\": (\"parquet\", \"hardwood\"),\n",
    "        \"concierge\": (\"concierge\", \"doorman\", \"housekeep\", \"in_super\"),\n",
    "        \"prewar\": (\"prewar\", \"pre_war\", \"pre war\", \"pre-war\"),\n",
    "        \"laundry\": (\"laundry\", \"lndry\"),\n",
    "        \"health\": (\"health\", \"gym\", \"fitness\", \"training\"),\n",
    "        \"transport\": (\"train\", \"subway\", \"transport\"),\n",
    "        \"parking\": (\"parking\",),\n",
    "        \"utilities\": (\"utilities\", \"heat water\", \"water included\")\n",
    "    }\n",
    "\n",
    "    def indicator(bow):\n",
    "        return lambda s: int(any([x in s for x in bow]))\n",
    "\n",
    "    features = df[\"features\"].apply(lambda f: \" \".join(f).lower())   # convert features to string\n",
    "    for key in bows:\n",
    "        df[\"feature_\" + key] = features.apply(indicator(bows[key]))\n",
    "\n",
    "    return df"
   ]
  },
  {
   "cell_type": "code",
   "execution_count": 24,
   "metadata": {
    "collapsed": true
   },
   "outputs": [],
   "source": [
    "train=create_binary_features(train)\n",
    "train.to_csv('processed_feature.csv',index=False,encoding='utf-8')"
   ]
  },
  {
   "cell_type": "code",
   "execution_count": 25,
   "metadata": {},
   "outputs": [
    {
     "data": {
      "text/plain": [
       "(124011, 861)"
      ]
     },
     "execution_count": 25,
     "metadata": {},
     "output_type": "execute_result"
    }
   ],
   "source": [
    "train.shape"
   ]
  },
  {
   "cell_type": "code",
   "execution_count": 26,
   "metadata": {},
   "outputs": [
    {
     "name": "stderr",
     "output_type": "stream",
     "text": [
      "/usr/local/lib/python2.7/dist-packages/pandas/core/indexing.py:477: SettingWithCopyWarning: \n",
      "A value is trying to be set on a copy of a slice from a DataFrame.\n",
      "Try using .loc[row_indexer,col_indexer] = value instead\n",
      "\n",
      "See the caveats in the documentation: http://pandas.pydata.org/pandas-docs/stable/indexing.html#indexing-view-versus-copy\n",
      "  self.obj[item] = s\n"
     ]
    }
   ],
   "source": [
    "train_df=train[train.interest_level!='test']\n",
    "test_df=train[train.interest_level=='test']\n",
    "train_df.loc[:,'interest_level'] = train_df['interest_level'].apply(lambda x: {'high': 0, 'medium': 1, 'low': 2}[x])\n",
    "\n",
    "#train_df.select_dtypes(include=['bool','float64'])\n",
    "train_df=train_df.select_dtypes(exclude=['O','<M8[ns]'])\n",
    "\n",
    "features=train_df.columns.tolist()\n",
    "features.remove('listing_id')\n",
    "features.remove('interest_level')\n",
    "features.remove('price')"
   ]
  },
  {
   "cell_type": "code",
   "execution_count": 32,
   "metadata": {},
   "outputs": [
    {
     "name": "stderr",
     "output_type": "stream",
     "text": [
      "/usr/local/lib/python2.7/dist-packages/sklearn/cross_validation.py:44: DeprecationWarning: This module was deprecated in version 0.18 in favor of the model_selection module into which all the refactored classes and functions are moved. Also note that the interface of the new CV iterators are different from that of this module. This module will be removed in 0.20.\n",
      "  \"This module will be removed in 0.20.\", DeprecationWarning)\n"
     ]
    }
   ],
   "source": [
    "from sklearn.ensemble import RandomForestClassifier ,GradientBoostingClassifier,ExtraTreesClassifier\n",
    "from sklearn.cross_validation import train_test_split"
   ]
  },
  {
   "cell_type": "code",
   "execution_count": 34,
   "metadata": {},
   "outputs": [
    {
     "data": {
      "text/plain": [
       "ExtraTreesClassifier(bootstrap=False, class_weight=None, criterion='gini',\n",
       "           max_depth=None, max_features='auto', max_leaf_nodes=None,\n",
       "           min_impurity_split=1e-07, min_samples_leaf=1,\n",
       "           min_samples_split=2, min_weight_fraction_leaf=0.0,\n",
       "           n_estimators=70, n_jobs=1, oob_score=False, random_state=0,\n",
       "           verbose=0, warm_start=False)"
      ]
     },
     "execution_count": 34,
     "metadata": {},
     "output_type": "execute_result"
    }
   ],
   "source": [
    "forest = ExtraTreesClassifier(n_estimators=70, random_state=0)\n",
    "X_train, X_test, y_train, y_test = train_test_split(train_df[features], train_df['interest_level'], test_size=0.30, random_state=42)\n",
    "forest.fit(X_train.fillna(0),y_train)\n",
    "\n",
    "rf=RandomForestClassifier(n_estimators=100, criterion='gini', max_depth=10, min_samples_split=2, \n",
    "                       min_samples_leaf=1, min_weight_fraction_leaf=0.0, max_features='auto',\n",
    "                       max_leaf_nodes=None, min_impurity_split=1e-07, bootstrap=True,\n",
    "                       oob_score=False, n_jobs=-1, random_state=None, verbose=0, warm_start=False, class_weight=None)\n",
    "\n",
    "rf.fit(X_train.fillna(0),y_train)"
   ]
  },
  {
   "cell_type": "code",
   "execution_count": 50,
   "metadata": {},
   "outputs": [
    {
     "name": "stdout",
     "output_type": "stream",
     "text": [
      "(0.73542523012794536, 0.71673645819262466)\n"
     ]
    }
   ],
   "source": [
    "print(rf.score(X_train.fillna(0),y_train),rf.score(X_test.fillna(0),y_test))"
   ]
  },
  {
   "cell_type": "code",
   "execution_count": 70,
   "metadata": {},
   "outputs": [],
   "source": [
    "features=df[df>0].index"
   ]
  },
  {
   "cell_type": "code",
   "execution_count": 66,
   "metadata": {},
   "outputs": [
    {
     "name": "stdout",
     "output_type": "stream",
     "text": [
      "Populating the interactive namespace from numpy and matplotlib\n"
     ]
    },
    {
     "data": {
      "text/plain": [
       "<matplotlib.axes._subplots.AxesSubplot at 0x7f638519a490>"
      ]
     },
     "execution_count": 66,
     "metadata": {},
     "output_type": "execute_result"
    },
    {
     "data": {
      "image/png": "[encoded data removed]",
      "text/plain": [
       "<matplotlib.figure.Figure at 0x7f636fdbe950>"
      ]
     },
     "metadata": {},
     "output_type": "display_data"
    }
   ],
   "source": [
    "df=get_importance(forest,features)\n",
    "%pylab inline\n",
    "from pylab import rcParams\n",
    "rcParams['figure.figsize'] = 18, 4\n",
    "df.head(50).plot(kind='bar')"
   ]
  },
  {
   "cell_type": "code",
   "execution_count": 67,
   "metadata": {},
   "outputs": [
    {
     "name": "stdout",
     "output_type": "stream",
     "text": [
      "Populating the interactive namespace from numpy and matplotlib\n"
     ]
    },
    {
     "data": {
      "text/plain": [
       "<matplotlib.axes._subplots.AxesSubplot at 0x7f63855510d0>"
      ]
     },
     "execution_count": 67,
     "metadata": {},
     "output_type": "execute_result"
    },
    {
     "data": {
      "image/png": "[encoded data removed]",
      "text/plain": [
       "<matplotlib.figure.Figure at 0x7f63851ccad0>"
      ]
     },
     "metadata": {},
     "output_type": "display_data"
    }
   ],
   "source": [
    "df=get_importance(rf,features)\n",
    "%pylab inline\n",
    "from pylab import rcParams\n",
    "rcParams['figure.figsize'] = 18, 4\n",
    "df.head(50).plot(kind='bar')"
   ]
  },
  {
   "cell_type": "code",
   "execution_count": 49,
   "metadata": {},
   "outputs": [],
   "source": [
    "def get_importance(forest,features):\n",
    "    #importances = forest.feature_importances_\n",
    "    importance = forest.feature_importances_\n",
    "    importance = pd.DataFrame(importance, index=features, \n",
    "                          columns=[\"Importance\"])\n",
    "    importance=importance.sort_values('Importance',ascending=False)\n",
    "    return importance\n",
    "    #features=importance[importance['Importance']].index"
   ]
  },
  {
   "cell_type": "code",
   "execution_count": 455,
   "metadata": {
    "collapsed": true
   },
   "outputs": [],
   "source": [
    "import lightgbm as lgbm\n",
    "\n",
    "t4_params = {\n",
    "    'boosting_type': 'gbdt', 'objective': 'multiclass', 'nthread': -1, 'silent': True,\n",
    "    'num_leaves': 10, 'learning_rate': 0.03, 'max_depth': 12,\n",
    "    'max_bin': 255, 'subsample_for_bin': 50000,\n",
    "    'subsample': 0.6, 'subsample_freq': 1, 'colsample_bytree': 0.6, 'reg_alpha':5, 'reg_lambda':5,\n",
    "    'min_split_gain': 0.7, 'min_child_weight': 1, 'min_child_samples': 10, 'scale_pos_weight': 1}\n",
    "\n",
    "# they can be used directly to build a LGBMClassifier (which is wrapped in a sklearn fashion)\n",
    "t4 = lgbm.sklearn.LGBMClassifier(n_estimators=1000, seed=0, **t4_params)"
   ]
  },
  {
   "cell_type": "code",
   "execution_count": 456,
   "metadata": {},
   "outputs": [
    {
     "name": "stdout",
     "output_type": "stream",
     "text": [
      "(0.79757424882765005, 0.77063352694853438)\n"
     ]
    }
   ],
   "source": [
    "X_train, X_test, y_train, y_test = train_test_split(train_df[features], train_df['interest_level'], test_size=0.30, random_state=42)\n",
    "t4 = lgbm.sklearn.LGBMClassifier(n_estimators=1000, seed=0, **t4_params)\n",
    "t4.fit(X_train,y_train)`\n",
    "print(t4.score(X_train,y_train),t4.score(X_test,y_test))"
   ]
  },
  {
   "cell_type": "code",
   "execution_count": 457,
   "metadata": {},
   "outputs": [
    {
     "name": "stdout",
     "output_type": "stream",
     "text": [
      "[50]\tcv_agg's multi_logloss: 0.675776 + 0.00243834\n",
      "[100]\tcv_agg's multi_logloss: 0.591967 + 0.00360559\n",
      "[150]\tcv_agg's multi_logloss: 0.564831 + 0.00422974\n",
      "[200]\tcv_agg's multi_logloss: 0.551815 + 0.00461705\n",
      "[250]\tcv_agg's multi_logloss: 0.543722 + 0.00473377\n",
      "[300]\tcv_agg's multi_logloss: 0.538296 + 0.00482705\n",
      "[350]\tcv_agg's multi_logloss: 0.534046 + 0.00488668\n",
      "[400]\tcv_agg's multi_logloss: 0.530649 + 0.00482355\n",
      "[450]\tcv_agg's multi_logloss: 0.527853 + 0.00472552\n",
      "[500]\tcv_agg's multi_logloss: 0.525357 + 0.00464533\n",
      "[550]\tcv_agg's multi_logloss: 0.523303 + 0.00461893\n",
      "[600]\tcv_agg's multi_logloss: 0.521465 + 0.00456813\n",
      "[650]\tcv_agg's multi_logloss: 0.519882 + 0.00456496\n",
      "[700]\tcv_agg's multi_logloss: 0.518383 + 0.00444791\n",
      "[750]\tcv_agg's multi_logloss: 0.517123 + 0.00435298\n",
      "[800]\tcv_agg's multi_logloss: 0.51605 + 0.0043669\n",
      "[850]\tcv_agg's multi_logloss: 0.515104 + 0.00423636\n",
      "[900]\tcv_agg's multi_logloss: 0.514174 + 0.00421786\n",
      "[950]\tcv_agg's multi_logloss: 0.513352 + 0.0041776\n",
      "[1000]\tcv_agg's multi_logloss: 0.512587 + 0.00414936\n",
      "[1050]\tcv_agg's multi_logloss: 0.511903 + 0.00419288\n",
      "[1100]\tcv_agg's multi_logloss: 0.511273 + 0.00417194\n",
      "[1150]\tcv_agg's multi_logloss: 0.510675 + 0.00409787\n",
      "[1200]\tcv_agg's multi_logloss: 0.510094 + 0.00407239\n",
      "[1250]\tcv_agg's multi_logloss: 0.509626 + 0.00407698\n",
      "[1300]\tcv_agg's multi_logloss: 0.509153 + 0.00404253\n",
      "[1350]\tcv_agg's multi_logloss: 0.508745 + 0.00395618\n",
      "[1400]\tcv_agg's multi_logloss: 0.508314 + 0.0039667\n",
      "[1450]\tcv_agg's multi_logloss: 0.507965 + 0.00391407\n",
      "[1500]\tcv_agg's multi_logloss: 0.507623 + 0.00388671\n",
      "[1550]\tcv_agg's multi_logloss: 0.507308 + 0.00386629\n",
      "[1600]\tcv_agg's multi_logloss: 0.507011 + 0.00386698\n",
      "[1650]\tcv_agg's multi_logloss: 0.506717 + 0.00383054\n",
      "[1700]\tcv_agg's multi_logloss: 0.506422 + 0.00377691\n",
      "[1750]\tcv_agg's multi_logloss: 0.506138 + 0.00368256\n",
      "[1800]\tcv_agg's multi_logloss: 0.50591 + 0.00373357\n",
      "[1850]\tcv_agg's multi_logloss: 0.505641 + 0.00369352\n",
      "[1900]\tcv_agg's multi_logloss: 0.505455 + 0.00368141\n",
      "[1950]\tcv_agg's multi_logloss: 0.505221 + 0.00366074\n",
      "[2000]\tcv_agg's multi_logloss: 0.505006 + 0.00358854\n",
      "[2050]\tcv_agg's multi_logloss: 0.504793 + 0.00358901\n",
      "[2100]\tcv_agg's multi_logloss: 0.504653 + 0.00361926\n",
      "[2150]\tcv_agg's multi_logloss: 0.504432 + 0.00353976\n",
      "[2200]\tcv_agg's multi_logloss: 0.504301 + 0.0034845\n",
      "[2250]\tcv_agg's multi_logloss: 0.504189 + 0.00348882\n",
      "[2300]\tcv_agg's multi_logloss: 0.504049 + 0.00345085\n",
      "[2350]\tcv_agg's multi_logloss: 0.503858 + 0.00344691\n",
      "[2400]\tcv_agg's multi_logloss: 0.50375 + 0.00339867\n",
      "[2450]\tcv_agg's multi_logloss: 0.503644 + 0.0034005\n",
      "[2500]\tcv_agg's multi_logloss: 0.503568 + 0.00338184\n",
      "[2550]\tcv_agg's multi_logloss: 0.503432 + 0.00337101\n",
      "[2600]\tcv_agg's multi_logloss: 0.503352 + 0.0033667\n",
      "[2650]\tcv_agg's multi_logloss: 0.503245 + 0.00333028\n",
      "[2700]\tcv_agg's multi_logloss: 0.503134 + 0.00332813\n",
      "[2750]\tcv_agg's multi_logloss: 0.503064 + 0.00332941\n",
      "[2800]\tcv_agg's multi_logloss: 0.503006 + 0.00329066\n",
      "[2850]\tcv_agg's multi_logloss: 0.502879 + 0.00327831\n",
      "[2900]\tcv_agg's multi_logloss: 0.502834 + 0.00326064\n",
      "[2950]\tcv_agg's multi_logloss: 0.502782 + 0.00329523\n",
      "[3000]\tcv_agg's multi_logloss: 0.502716 + 0.00326788\n",
      "[3050]\tcv_agg's multi_logloss: 0.502656 + 0.00323944\n",
      "[3100]\tcv_agg's multi_logloss: 0.502549 + 0.00318124\n",
      "[3150]\tcv_agg's multi_logloss: 0.502482 + 0.00316669\n",
      "[3200]\tcv_agg's multi_logloss: 0.502395 + 0.00315453\n",
      "[3250]\tcv_agg's multi_logloss: 0.502378 + 0.00314383\n",
      "[3300]\tcv_agg's multi_logloss: 0.502305 + 0.00312643\n",
      "[3350]\tcv_agg's multi_logloss: 0.502225 + 0.00312265\n",
      "[3400]\tcv_agg's multi_logloss: 0.502209 + 0.00308342\n",
      "[3450]\tcv_agg's multi_logloss: 0.502146 + 0.00307813\n",
      "[3500]\tcv_agg's multi_logloss: 0.50208 + 0.00307378\n",
      "[3550]\tcv_agg's multi_logloss: 0.502046 + 0.00308207\n",
      "[3600]\tcv_agg's multi_logloss: 0.502014 + 0.00309378\n",
      "[3650]\tcv_agg's multi_logloss: 0.501986 + 0.0030866\n",
      "[3700]\tcv_agg's multi_logloss: 0.501949 + 0.0030793\n",
      "[3750]\tcv_agg's multi_logloss: 0.501924 + 0.0030619\n",
      "[3800]\tcv_agg's multi_logloss: 0.501892 + 0.00305084\n",
      "[3850]\tcv_agg's multi_logloss: 0.501846 + 0.00303987\n",
      "[3900]\tcv_agg's multi_logloss: 0.501816 + 0.00302295\n",
      "[3950]\tcv_agg's multi_logloss: 0.5018 + 0.00303497\n",
      "[4000]\tcv_agg's multi_logloss: 0.50176 + 0.00304896\n",
      "[4050]\tcv_agg's multi_logloss: 0.501703 + 0.00308813\n",
      "[4100]\tcv_agg's multi_logloss: 0.501682 + 0.00304988\n",
      "[4150]\tcv_agg's multi_logloss: 0.501642 + 0.00303499\n",
      "[4200]\tcv_agg's multi_logloss: 0.501615 + 0.00303369\n",
      "[4250]\tcv_agg's multi_logloss: 0.501584 + 0.00305818\n",
      "[4300]\tcv_agg's multi_logloss: 0.501594 + 0.0029647\n",
      "[4350]\tcv_agg's multi_logloss: 0.501577 + 0.00293175\n",
      "[4400]\tcv_agg's multi_logloss: 0.501605 + 0.00293068\n",
      "[4450]\tcv_agg's multi_logloss: 0.501581 + 0.00291269\n",
      "[4500]\tcv_agg's multi_logloss: 0.501528 + 0.00294596\n",
      "[4550]\tcv_agg's multi_logloss: 0.501493 + 0.0029556\n",
      "[4600]\tcv_agg's multi_logloss: 0.501492 + 0.00296241\n",
      "[4650]\tcv_agg's multi_logloss: 0.501447 + 0.00287247\n",
      "[4700]\tcv_agg's multi_logloss: 0.501426 + 0.00284615\n",
      "[4750]\tcv_agg's multi_logloss: 0.501421 + 0.00281782\n",
      "[4800]\tcv_agg's multi_logloss: 0.501397 + 0.00278615\n",
      "[4850]\tcv_agg's multi_logloss: 0.501367 + 0.00279759\n",
      "[4900]\tcv_agg's multi_logloss: 0.50136 + 0.00274982\n",
      "[4950]\tcv_agg's multi_logloss: 0.501342 + 0.00278215\n",
      "[5000]\tcv_agg's multi_logloss: 0.501314 + 0.00281982\n",
      "[5050]\tcv_agg's multi_logloss: 0.501325 + 0.00281805\n",
      "[5100]\tcv_agg's multi_logloss: 0.501308 + 0.0028507\n",
      "[5150]\tcv_agg's multi_logloss: 0.501276 + 0.00285997\n",
      "[5200]\tcv_agg's multi_logloss: 0.501248 + 0.00284856\n",
      "[5250]\tcv_agg's multi_logloss: 0.501226 + 0.00285425\n",
      "[5300]\tcv_agg's multi_logloss: 0.501241 + 0.00282466\n",
      "[5350]\tcv_agg's multi_logloss: 0.501223 + 0.00283587\n",
      "[5400]\tcv_agg's multi_logloss: 0.50123 + 0.00281164\n",
      "[5450]\tcv_agg's multi_logloss: 0.501218 + 0.00278798\n",
      "[5500]\tcv_agg's multi_logloss: 0.501236 + 0.00279556\n",
      "lgbm_1.json\n",
      "('best n_estimators:', 5446)\n",
      "('best cv score:', 0.50121419221334096)\n"
     ]
    }
   ],
   "source": [
    "lgbm_params = t4_params.copy()\n",
    "lgbm_params['num_class'] = 3\n",
    "dset = lgbm.Dataset(train_df[features], train_df['interest_level'], silent=True)\n",
    "cv_results = lgbm.cv(\n",
    "    lgbm_params, dset, num_boost_round=10000, nfold=5, stratified=False, shuffle=True, metrics='multi_logloss',\n",
    "    early_stopping_rounds=100, verbose_eval=50, show_stdv=True, seed=0)\n",
    "\n",
    "filename_str='lgbm_1.json'\n",
    "json.dump(cv_results, open('lgbm_1.json', 'w'))\n",
    "print(filename_str)\n",
    "print('best n_estimators:', len(cv_results['multi_logloss-mean']))\n",
    "print('best cv score:', cv_results['multi_logloss-mean'][-1])"
   ]
  },
  {
   "cell_type": "code",
   "execution_count": 459,
   "metadata": {
    "collapsed": true
   },
   "outputs": [],
   "source": [
    "t4 = lgbm.sklearn.LGBMClassifier(n_estimators=5446, seed=0, **t4_params)"
   ]
  },
  {
   "cell_type": "code",
   "execution_count": 461,
   "metadata": {},
   "outputs": [
    {
     "data": {
      "text/plain": [
       "LGBMClassifier(boosting_type='gbdt', colsample_bytree=0.6, drop_rate=0.1,\n",
       "        is_unbalance=False, learning_rate=0.03, max_bin=255, max_depth=12,\n",
       "        max_drop=50, min_child_samples=10, min_child_weight=1,\n",
       "        min_split_gain=0.7, n_estimators=5446, nthread=-1, num_leaves=10,\n",
       "        objective='multiclass', reg_alpha=5, reg_lambda=5,\n",
       "        scale_pos_weight=1, seed=0, sigmoid=1.0, silent=True,\n",
       "        skip_drop=0.5, subsample=0.6, subsample_for_bin=50000,\n",
       "        subsample_freq=1, uniform_drop=False, xgboost_dart_mode=False)"
      ]
     },
     "execution_count": 461,
     "metadata": {},
     "output_type": "execute_result"
    }
   ],
   "source": [
    "t4.fit(train_df[features],train_df['interest_level'])"
   ]
  },
  {
   "cell_type": "code",
   "execution_count": 464,
   "metadata": {
    "collapsed": true
   },
   "outputs": [],
   "source": [
    "preds=t4.predict(test_df[features])\n",
    "out_df = pd.DataFrame(preds)\n",
    "out_df.columns = [\"high\", \"medium\", \"low\"]"
   ]
  },
  {
   "cell_type": "code",
   "execution_count": 467,
   "metadata": {},
   "outputs": [
    {
     "data": {
      "text/plain": [
       "((74659, 3), (74659, 222))"
      ]
     },
     "execution_count": 467,
     "metadata": {},
     "output_type": "execute_result"
    }
   ],
   "source": [
    "out_df.shape,test_df[features].shape"
   ]
  },
  {
   "cell_type": "code",
   "execution_count": null,
   "metadata": {
    "collapsed": true
   },
   "outputs": [],
   "source": [
    "out_df.loc['lab']=t4.predict(test_df[features])\n",
    "out_df[\"listing_id\"] = test_df.listing_id.values\n",
    "#out_df.to_csv(\"sub51.csv\", index=False)"
   ]
  },
  {
   "cell_type": "code",
   "execution_count": null,
   "metadata": {
    "collapsed": true
   },
   "outputs": [],
   "source": [
    "{'high': 0, 'medium': 1, 'low': 2}"
   ]
  },
  {
   "cell_type": "code",
   "execution_count": 71,
   "metadata": {
    "collapsed": true
   },
   "outputs": [],
   "source": [
    "def runXGB(train_X, train_y, test_X, test_y=None, feature_names=None, seed_val=321, num_rounds=2000):\n",
    "    param = {}\n",
    "    param['objective'] = 'multi:softprob'\n",
    "    param['eta'] = 0.02\n",
    "    param['max_depth'] = 6\n",
    "    param['silent'] = 1\n",
    "    param['num_class'] = 3\n",
    "    param['eval_metric'] = \"mlogloss\"\n",
    "    param['min_child_weight'] = 1\n",
    "    param['subsample'] = 0.7\n",
    "    param['colsample_bytree'] = 0.7\n",
    "    param['seed'] = seed_val\n",
    "    num_rounds = num_rounds\n",
    "\n",
    "    plst = list(param.items())\n",
    "    xgtrain = xgb.DMatrix(train_X, label=train_y)\n",
    "\n",
    "    if test_y is not None:\n",
    "        xgtest = xgb.DMatrix(test_X, label=test_y)\n",
    "        watchlist = [ (xgtrain,'train'), (xgtest, 'test') ]\n",
    "        model = xgb.train(plst, xgtrain, num_rounds, watchlist, early_stopping_rounds=20)\n",
    "    else:\n",
    "        xgtest = xgb.DMatrix(test_X)\n",
    "        model = xgb.train(plst, xgtrain, num_rounds)\n",
    "\n",
    "    pred_test_y = model.predict(xgtest)\n",
    "    return pred_test_y, model"
   ]
  },
  {
   "cell_type": "code",
   "execution_count": 72,
   "metadata": {
    "collapsed": true
   },
   "outputs": [],
   "source": [
    "preds, model = runXGB(train_df[features], train_df['interest_level'].values, test_df[features], num_rounds=2000)"
   ]
  },
  {
   "cell_type": "code",
   "execution_count": 74,
   "metadata": {},
   "outputs": [],
   "source": [
    "out_df = pd.DataFrame(preds)\n",
    "out_df.columns = [\"high\", \"medium\", \"low\"]"
   ]
  },
  {
   "cell_type": "code",
   "execution_count": 75,
   "metadata": {
    "collapsed": true
   },
   "outputs": [],
   "source": [
    "out_df[\"listing_id\"] = test_df.listing_id.values"
   ]
  },
  {
   "cell_type": "code",
   "execution_count": 76,
   "metadata": {
    "collapsed": true
   },
   "outputs": [],
   "source": [
    "out_df.to_csv(\"xgb_123.csv\", index=False)"
   ]
  }
 ],
 "metadata": {
  "kernelspec": {
   "display_name": "Python 2",
   "language": "python",
   "name": "python2"
  },
  "language_info": {
   "codemirror_mode": {
    "name": "ipython",
    "version": 2
   },
   "file_extension": ".py",
   "mimetype": "text/x-python",
   "name": "python",
   "nbconvert_exporter": "python",
   "pygments_lexer": "ipython2",
   "version": "2.7.12"
  }
 },
 "nbformat": 4,
 "nbformat_minor": 2
}
